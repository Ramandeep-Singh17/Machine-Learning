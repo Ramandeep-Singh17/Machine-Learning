{
  "nbformat": 4,
  "nbformat_minor": 0,
  "metadata": {
    "colab": {
      "provenance": [],
      "authorship_tag": "ABX9TyN1CkYUSzBQAND4hHqg5f4u",
      "include_colab_link": true
    },
    "kernelspec": {
      "name": "python3",
      "display_name": "Python 3"
    },
    "language_info": {
      "name": "python"
    }
  },
  "cells": [
    {
      "cell_type": "markdown",
      "metadata": {
        "id": "view-in-github",
        "colab_type": "text"
      },
      "source": [
        "<a href=\"https://colab.research.google.com/github/Ramandeep-Singh17/Machine-Learning/blob/main/Regression.ipynb\" target=\"_parent\"><img src=\"https://colab.research.google.com/assets/colab-badge.svg\" alt=\"Open In Colab\"/></a>"
      ]
    },
    {
      "cell_type": "code",
      "execution_count": 2,
      "metadata": {
        "id": "RbZXAgKDXFF3"
      },
      "outputs": [],
      "source": [
        "#contionuous variable like salary hm regresssion use karte hai\n",
        "#hm decide karfenge hoga ya nhi0 and 1 usme classification use karte hai.\n"
      ]
    },
    {
      "cell_type": "code",
      "source": [
        "# ✅ What is Supervised Machine Learning?\n",
        "# Supervised Machine Learning ek aisa approach hai jisme model ko training data ke sath label bhi diya jata hai.\n",
        "\n",
        "# Matlab: Hamare paas input (X) aur correct output (Y) dono hote hain, aur model ko sikhaya jata hai ki kaise X se Y predict kare.\n",
        "\n",
        "# ✅ How it works (Kaise kaam karta hai):\n",
        "# Data hota hai:\n",
        "\n",
        "# Features (Input) = X\n",
        "\n",
        "# Labels (Output) = Y\n",
        "\n",
        "# Model training:\n",
        "\n",
        "# Model X ko observe karta hai aur Y ke sath compare karke pattern seekhta hai.\n",
        "\n",
        "# Prediction:\n",
        "\n",
        "# Jab naye (unseen) X input doge, to model trained pattern ke basis pe Y predict karega.\n",
        "\n",
        "# ✅ Types of Supervised Learning:\n",
        "# Type\tExplanation\tExample\n",
        "# Regression\tJab output continuous ho\tSalary prediction, house price\n",
        "# Classification\tJab output category/label ho\tSpam vs Not Spam, Tumor: Malignant/Benign\n",
        "\n",
        "# ✅ Why it is important? (Kyu zaroori hai?)\n",
        "# Clear goal hota hai: Output already known hota hai, isliye learning effective hoti hai.\n",
        "\n",
        "# Real-world ready: Bahut saare real-world problems classification/regression wale hi hote hain.\n",
        "\n",
        "# Foundation of ML: ML ke basics samajhne ke liye supervised learning must hai.\n",
        "\n",
        "# ✅ Where is it used? (Applications)\n",
        "# Domain\tExample\n",
        "# Finance\tLoan default prediction, stock price regression\n",
        "# Healthcare\tDisease classification (COVID, cancer)\n",
        "# E-commerce\tProduct recommendation, review spam detection\n",
        "# Marketing\tCustomer churn prediction\n",
        "# Email\tSpam vs Ham filter\n",
        "\n",
        "# ✅ Key Algorithms:\n",
        "# Linear Regression (for regression problems)\n",
        "\n",
        "# Logistic Regression (for binary classification)\n",
        "\n",
        "# Decision Trees\n",
        "\n",
        "# Random Forest\n",
        "\n",
        "# K-Nearest Neighbors (KNN)\n",
        "\n",
        "# Support Vector Machines (SVM)\n",
        "\n",
        "# ✅ Summary Statement (Interview Ready 💼):\n",
        "# Supervised Machine Learning is a type of ML where the model is trained on labeled data (input-output pairs).\n",
        "#  It is used for tasks like classification and regression where we know the desired outcome.\n",
        "#   It's widely applied in healthcare, finance, e-commerce, and more due to its accuracy and clear learning structure."
      ],
      "metadata": {
        "id": "mmdBNxbfaq4k"
      },
      "execution_count": 3,
      "outputs": []
    },
    {
      "cell_type": "code",
      "source": [
        "#\"\"\" Linear Regression\n",
        "\n",
        "#Linear Regression is a supervised machine learning algorithm used for predicting a continuous value.\n",
        "# It finds the best-fit straight line (y = mx + c) that shows the relationship between the independent variable(s) and the dependent variable.\n",
        "\n",
        "#Example: Predicting a person's salary based on years of experience.\n",
        "\n",
        "\n"
      ],
      "metadata": {
        "id": "eNkBR7dxlgDO"
      },
      "execution_count": 4,
      "outputs": []
    },
    {
      "cell_type": "code",
      "source": [
        "#y variable me output variable jata hai\n",
        "#multiple input variable x pe\n",
        "#hm ek scatter plot banate hai and uske help se hm best fit line banate hai and us best fit line se hm predict karte hai\n",
        "# now lets see how we actually craete a best fit line\n",
        "#y=mx+c, m=slope,b=intercept, x=data point,y=prediction.\n",
        "#slope btata hai ki agar hm x pe 1 unit aage ja rhe hai tu usse y pe kya change hoga.\n",
        "#agar hm best fit line create kar lete hai tab hm bas y=mx+c ka use karke predict karte hai linear regression me\n",
        "#hm y=mx+c ke jagah theeta ka bhi use karte hai"
      ],
      "metadata": {
        "id": "D4iHv1v4Yxzk"
      },
      "execution_count": 5,
      "outputs": []
    },
    {
      "cell_type": "code",
      "source": [
        "# residual error= actual data point and predicted data point ka difference\n",
        "#hm  multiple line bnayaenge and wo select karenge jisme sabse kam residual error aayega\n"
      ],
      "metadata": {
        "id": "BoAKIWgZc4SV"
      },
      "execution_count": 6,
      "outputs": []
    },
    {
      "cell_type": "code",
      "source": [
        "#cost function sare residual error ka sum\n",
        "#You have to minimize the cost function by changing the value of thetha naughr and theta zero\n",
        "#hm sabse kam cost function ko consider karenge\n",
        "#minumun function ke liye hm gradient descent chcahiye hota hai."
      ],
      "metadata": {
        "id": "svXKGJNmeX5b"
      },
      "execution_count": 7,
      "outputs": []
    },
    {
      "cell_type": "code",
      "source": [
        "#gradient Descent\n",
        "#theta zero and theta 1 ki values ko change karke hm alag alag line crerate karte hai\n",
        "#multiple thethas ke value pe ye ek curve deta hai jise hm gradient descent curve bolte hai.somelthing like parabola dekhne me\n",
        "#jab gradient descent banjate hai tab hm dekhete hai ki sabse kam mean square error hota hai,or ,sabse kam theta ki value hoti ,or,\n",
        "#sabse kam resdiual error ki vlaue hai, or, ya sabse kam cost function ki vslue ho.kuch bhi bol sakte hai en sab me\n",
        "# and us point (jo upper diye gaye defiantion me hai mean square,theta kam,min residual error, min cost function sab ek hi chiz ko bata hai)\n",
        "# wo hai global minima point. Wo global minima point least error dega.\n",
        "\n"
      ],
      "metadata": {
        "id": "DQH3ORLIjpBd"
      },
      "execution_count": 8,
      "outputs": []
    },
    {
      "cell_type": "code",
      "source": [
        "#repeat convergence theorem=  hm iske help se curve banate hai gradient descent me\n",
        "#learning rate (alpha) ko kam rakhte hai gradient descent me global minima ko easily find karne ke liye.\n",
        "#\n",
        "\n"
      ],
      "metadata": {
        "id": "P-NWZjbrTq1T"
      },
      "execution_count": 9,
      "outputs": []
    },
    {
      "cell_type": "code",
      "source": [
        "# multiple regression\n",
        "# jab bahut sare  feature ho tab multiple regression use hota hai\n",
        "#  hm r2 and adjusted r2 ka use bhi karte hai y test me\n",
        "# hm aadjusted r2 ka prioprity jayda dete hai\n",
        "#"
      ],
      "metadata": {
        "id": "Ipa0fEkAU9U8"
      },
      "execution_count": 10,
      "outputs": []
    },
    {
      "cell_type": "code",
      "source": [
        "#overfitting and underfitting\n",
        "#what is overfitting?\n",
        "#training data pe model perform better but testing per model kharab ho jata hai.\n",
        "\"\"\" low variance and  hiagh bias\"\"\"\n",
        "# underfitting\n",
        "# model na training data per sahi kaam kar rha hai na hi  testing data pe\n",
        "\"\"\" high variance and high bias\"\"\""
      ],
      "metadata": {
        "colab": {
          "base_uri": "https://localhost:8080/",
          "height": 35
        },
        "id": "T_P1zFOnky9w",
        "outputId": "7366f836-862b-4e44-9d29-876b2389decd"
      },
      "execution_count": 1,
      "outputs": [
        {
          "output_type": "execute_result",
          "data": {
            "text/plain": [
              "' high variance and high bias'"
            ],
            "application/vnd.google.colaboratory.intrinsic+json": {
              "type": "string"
            }
          },
          "metadata": {},
          "execution_count": 1
        }
      ]
    },
    {
      "cell_type": "code",
      "source": [],
      "metadata": {
        "id": "MQY22pR_NZuQ"
      },
      "execution_count": 10,
      "outputs": []
    }
  ]
}